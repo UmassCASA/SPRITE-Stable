{
 "cells": [
  {
   "cell_type": "code",
   "execution_count": null,
   "metadata": {},
   "outputs": [],
   "source": [
    "import os\n",
    "import pysftp as sftp\n",
    "import gzip\n",
    "import shutil\n",
    "import matplotlib.pyplot as plt\n",
    "from netCDF4 import Dataset\n",
    "import pandas as pd\n",
    "import numpy as np"
   ]
  },
  {
   "cell_type": "code",
   "execution_count": null,
   "metadata": {},
   "outputs": [],
   "source": [
    "# Load data\n",
    "path = \"/work/pi_mzink_umass_edu/SPRITE/skillful_nowcasting/netCDFData/train/20160301/20160301_053157.nc\"\n",
    "\n",
    "nc_data = Dataset(path, \"r\")\n",
    "rr_data = nc_data.variables[\"RRdata\"][:]\n",
    "x_data = nc_data.variables[\"x0\"][:]\n",
    "y_data = nc_data.variables[\"y0\"][:]\n",
    "\n",
    "\n",
    "if isinstance(rr_data, np.ma.MaskedArray):\n",
    "    print(\"Masked array – must be corrected\")\n",
    "    rr_data = np.ma.filled(rr_data, 0)"
   ]
  },
  {
   "cell_type": "code",
   "execution_count": null,
   "metadata": {},
   "outputs": [],
   "source": [
    "# Plot data\n",
    "plt.imshow(rr_data[0, :, :], extent=(x_data[0], x_data[-1], y_data[0], y_data[-1]), origin=\"lower\", cmap=\"viridis\")\n",
    "plt.colorbar(label=\"RRdata\")\n",
    "plt.title(\"NetCDF Data Plot\")\n",
    "plt.xlabel(\"x0\")\n",
    "plt.ylabel(\"y0\")\n",
    "plt.show()"
   ]
  },
  {
   "cell_type": "code",
   "execution_count": null,
   "metadata": {},
   "outputs": [],
   "source": [
    "# Check if rr_data is all zeros\n",
    "print(np.all(rr_data == 0))"
   ]
  },
  {
   "cell_type": "code",
   "execution_count": null,
   "metadata": {},
   "outputs": [],
   "source": []
  }
 ],
 "metadata": {
  "kernelspec": {
   "display_name": "Python 3",
   "language": "python",
   "name": "python3"
  },
  "language_info": {
   "codemirror_mode": {
    "name": "ipython",
    "version": 3
   },
   "file_extension": ".py",
   "mimetype": "text/x-python",
   "name": "python",
   "nbconvert_exporter": "python",
   "pygments_lexer": "ipython3",
   "version": "3.9.18"
  }
 },
 "nbformat": 4,
 "nbformat_minor": 2
}
